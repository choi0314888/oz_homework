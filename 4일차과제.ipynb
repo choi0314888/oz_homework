{
  "nbformat": 4,
  "nbformat_minor": 0,
  "metadata": {
    "colab": {
      "provenance": [],
      "authorship_tag": "ABX9TyMNR6NSfCvAsD9EgPnBWywd",
      "include_colab_link": true
    },
    "kernelspec": {
      "name": "python3",
      "display_name": "Python 3"
    },
    "language_info": {
      "name": "python"
    }
  },
  "cells": [
    {
      "cell_type": "markdown",
      "metadata": {
        "id": "view-in-github",
        "colab_type": "text"
      },
      "source": [
        "<a href=\"https://colab.research.google.com/github/choi0314888/oz_homework/blob/main/4%EC%9D%BC%EC%B0%A8%EA%B3%BC%EC%A0%9C.ipynb\" target=\"_parent\"><img src=\"https://colab.research.google.com/assets/colab-badge.svg\" alt=\"Open In Colab\"/></a>"
      ]
    },
    {
      "cell_type": "code",
      "source": [
        "# 생성 초급\n",
        "\n",
        "INSERT INTO customers (name, address) VALUES ('choi','Bunpyeong-dong');\n",
        "INSERT INTO products (name, price) VALUES ('Toy Car', 20);\n",
        "INSERT INTO employees (firstName, lastName) VALUES ('first in', 'last out');\n",
        "INSERT INTO offices (city, phone) VALUES ('cheongju', '010-1234-5678');\n",
        "INSERT INTO orders (orderDate, customerID) VALUES ('2025-05-07', 123);\n",
        "INSERT INTO orderdetails (orderID, productID, quantityOrdered, priceEach) VALUES (1, 1, 2, 20.00);\n",
        "INSERT INTO payments (customerID, amount, paymentDate) VALUES (1, 200.00, '2025-05-07');\n",
        "INSERT INTO productlines (productLine, textDescription) VALUES ('toy', 'Various Toy cars models');\n",
        "INSERT INTO customers (name, address, city) VALUES ('Kim', 'Yongam-dong', 'cheongju');\n",
        "INSERT INTO products (name, price, productLine) VALUES ('Toy Gun', 15, 'toy');"
      ],
      "metadata": {
        "id": "laOVsdzXVl2a"
      },
      "execution_count": null,
      "outputs": []
    },
    {
      "cell_type": "code",
      "source": [
        "# 읽기 초급\n",
        "\n",
        "SELECT * FROM customers;\n",
        "SELECT name, price FROM products;\n",
        "SELECT firstName, lastName, Jobrank FROM employees;\n",
        "SELECT city, address, phone FROM offices;\n",
        "SELECT * FROM orders ORDER BY orderDate DESC LIMIT 10;\n",
        "SELECT * FROM orderdetails WHERE orderID = 1;\n",
        "SELECT * FROM payments WHERE customerID = 123;\n",
        "SELECT productLine, textdescription FROM productlines;\n",
        "SELECT * FROM customers WHERE city = 'Seoul';\n",
        "SELECT * FROM products WHERE price BETWEEN 15 AND 65;"
      ],
      "metadata": {
        "id": "4kclUe8K6FGz"
      },
      "execution_count": null,
      "outputs": []
    },
    {
      "cell_type": "code",
      "source": [
        "#갱신 초급\n",
        "\n",
        "UPDATE customers SET address = 'Kang-nam' WHERE customerID = 123;\n",
        "UPDATE products SET price = 29.99 WHERE productID = 1;\n",
        "UPDATE employees SET Jobrank = 'Manager' WHERE employeeID = 1;\n",
        "UPDATE offices SET phone = '010-2345-6789' WHERE officeID = 1;\n",
        "UPDATE orders SET status = 'Shipped' WHERE orderID = 1;\n",
        "UPDATE payments SET amount = 200.00 WHERE customerID = 1 AND paymentDate = '2025-05-08';\n",
        "UPDATE productlines SET textDescription = 'Updated description for toy products' WHERE productLine = 'toy';\n",
        "UPDATE customers SET email = 'choi@example.com' WHERE name = 'choi';\n",
        "UPDATE products SET price = price * 1.1;"
      ],
      "metadata": {
        "id": "YGjYIGZ4eHd0"
      },
      "execution_count": null,
      "outputs": []
    },
    {
      "cell_type": "code",
      "source": [
        "DELETE FROM customers WHERE customerID = 1;\n",
        "DELETE FROM products WHERE productID = 1;\n",
        "DELETE FROM employees WHERE employeeID = 1;\n",
        "DELETE FROM offices WHERE officeID = 1;\n",
        "DELETE FROM orders WHERE orderID = 1;\n",
        "DELETE FROM orderdetails WHERE orderID = 1;\n",
        "DELETE FROM payments WHERE customerID = 1;\n",
        "DELETE FROM productlines WHERE productLine = 'toy';\n",
        "DELETE FROM customers WHERE city = 'Seoul';\n",
        "DELETE FROM products WHERE productLine = 'Classic Cars';"
      ],
      "metadata": {
        "id": "sSitrEyWgG-b"
      },
      "execution_count": null,
      "outputs": []
    }
  ]
}
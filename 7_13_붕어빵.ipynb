{
  "nbformat": 4,
  "nbformat_minor": 0,
  "metadata": {
    "colab": {
      "provenance": [],
      "authorship_tag": "ABX9TyPUFKaK9MpzaoqWgLDFGAh6",
      "include_colab_link": true
    },
    "kernelspec": {
      "name": "python3",
      "display_name": "Python 3"
    },
    "language_info": {
      "name": "python"
    }
  },
  "cells": [
    {
      "cell_type": "markdown",
      "metadata": {
        "id": "view-in-github",
        "colab_type": "text"
      },
      "source": [
        "<a href=\"https://colab.research.google.com/github/choi0314888/oz_homework/blob/main/7_13_%EB%B6%95%EC%96%B4%EB%B9%B5.ipynb\" target=\"_parent\"><img src=\"https://colab.research.google.com/assets/colab-badge.svg\" alt=\"Open In Colab\"/></a>"
      ]
    },
    {
      "cell_type": "code",
      "execution_count": null,
      "metadata": {
        "id": "H2VQ6PcEkFJJ"
      },
      "outputs": [],
      "source": [
        "DROP DATABASE IF EXISTS fishbread_db;\n",
        "CREATE DATABASE fishbread_db;\n",
        "USE fishbread_db;\n",
        "\n",
        "\n",
        "CREATE TABLE users (\n",
        "    user_id INT PRIMARY KEY AUTO_INCREMENT,\n",
        "    name VARCHAR(255) NOT NULL,\n",
        "    age INT NOT NULL,\n",
        "    email VARCHAR(100) UNIQUE,\n",
        "    is_business BOOLEAN DEFAULT FALSE\n",
        ");\n",
        "\n",
        "\n",
        "CREATE TABLE orders (\n",
        "    order_id INT PRIMARY KEY AUTO_INCREMENT,\n",
        "    user_id INT,\n",
        "    order_date DATE,\n",
        "    amount DECIMAL(10,2),\n",
        "    FOREIGN KEY (user_id) REFERENCES users(user_id)\n",
        ");\n",
        "\n",
        "\n",
        "CREATE TABLE inventory (\n",
        "    item_id INT PRIMARY KEY AUTO_INCREMENT,\n",
        "    item_name VARCHAR(255) NOT NULL,\n",
        "    quantity INT NOT NULL\n",
        ");\n",
        "\n",
        "\n",
        "CREATE TABLE sales (\n",
        "    sale_id INT PRIMARY KEY AUTO_INCREMENT,\n",
        "    order_id INT,\n",
        "    item_id INT,\n",
        "    quantity_sold INT NOT NULL,\n",
        "    FOREIGN KEY (order_id) REFERENCES orders(order_id),\n",
        "    FOREIGN KEY (item_id) REFERENCES inventory(item_id)\n",
        ");\n",
        "\n",
        "\n",
        "CREATE TABLE daily_sales (\n",
        "    date DATE PRIMARY KEY,\n",
        "    total_sales DECIMAL(10,2) NOT NULL\n",
        ");"
      ]
    }
  ]
}
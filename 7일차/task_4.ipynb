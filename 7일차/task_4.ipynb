{
 "cells": [
  {
   "cell_type": "markdown",
   "metadata": {},
   "source": [
    "사용자 정의 예외 NegativeNumberError를 생성하고, 사용자로부터 숫자를 입력받아 음수일 경우 NegativeNumberError를 발생시키는 프로그램을 작성하세요. \n",
    "\n",
    "- 예외 처리 구문을 사용하여 음수 입력 시 \"양수를 입력해주세요.\"라는 메시지를 출력"
   ]
  },
  {
   "metadata": {
    "ExecuteTime": {
     "end_time": "2025-04-25T04:31:48.934642Z",
     "start_time": "2025-04-25T04:31:47.646940Z"
    }
   },
   "cell_type": "code",
   "source": [
    "class NegativeNumberError(Exception):\n",
    "    def __init__(self, message) -> None:\n",
    "        self.contact_name = \"NegativeNumberError\"\n",
    "        self.message = message\n",
    "        super().__init__(self.message)\n",
    "\n",
    "    def __str__(self) -> str:\n",
    "        return f\"{self.contact_name}: {self.message}\"\n",
    "\n",
    "try:\n",
    "    number = int(input(\"양수 입력:\"))\n",
    "    if number < 0:\n",
    "        raise NegativeNumberError(\"음수 입력됨. 양수를 입력.\")\n",
    "except NegativeNumberError as e:\n",
    "    print(e)"
   ],
   "outputs": [],
   "execution_count": 8
  }
 ],
 "metadata": {
  "language_info": {
   "name": "python"
  }
 },
 "nbformat": 4,
 "nbformat_minor": 2
}

{
 "cells": [
  {
   "cell_type": "markdown",
   "metadata": {},
   "source": [
    "사용자로부터 두 개의 숫자를 입력받아 나눗셈을 수행하는 프로그램을 작성하세요. \n",
    "\n",
    "[예외처리]\n",
    "- 입력 값이 숫자가 아닐 때 발생할 수 있는 ValueError\n",
    "- 나누는 수가 0일 때 발생할 수 있는 ZeroDivisionError\n",
    "- 위 2가지 예외처리 후 사용자에게 이해하기 쉬운 메시지 작성 후 출력되도록 코드를 작성"
   ]
  },
  {
   "metadata": {
    "ExecuteTime": {
     "end_time": "2025-04-25T04:20:56.854313Z",
     "start_time": "2025-04-25T04:20:54.355758Z"
    }
   },
   "cell_type": "code",
   "source": [
    "try:\n",
    "    num1 = int(input(\"4:\"))\n",
    "    num2 = int(input(\"2:\"))\n",
    "    print(num1/num2)\n",
    "except ValueError:\n",
    "    print(\"숫자만 입력하시오\")\n",
    "except ZeroDivisionError:\n",
    "    print(\"0으로 나눌 수 없음\")"
   ],
   "outputs": [
    {
     "name": "stdout",
     "output_type": "stream",
     "text": [
      "0으로 나눌 수 없음\n"
     ]
    }
   ],
   "execution_count": 26
  }
 ],
 "metadata": {
  "language_info": {
   "name": "python"
  }
 },
 "nbformat": 4,
 "nbformat_minor": 2
}

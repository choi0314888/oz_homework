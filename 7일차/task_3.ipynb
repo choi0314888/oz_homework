{
 "cells": [
  {
   "cell_type": "markdown",
   "metadata": {},
   "source": [
    "사용자로부터 여러 개의 숫자를 입력받아 리스트에 저장한 후, 사용자가 'done'이라고 입력할 때까지 계속 입력받으세요. \n",
    "\n",
    "- 입력 중 숫자가 아닌 값이 입력되면 ValueError를 처리\n",
    "- 숫자 외 값이 입력된 경우 어떤 값이 잘못 입력되었는지 사용자에게 알려주는 문구 출력<br>\n",
    "  (예: f\"잘못된 값: {변수}. 숫자를 입력해주세요.\")\n",
    "\n"
   ]
  },
  {
   "cell_type": "markdown",
   "metadata": {},
   "source": []
  },
  {
   "metadata": {
    "ExecuteTime": {
     "end_time": "2025-04-25T04:26:28.200428Z",
     "start_time": "2025-04-25T04:26:22.395179Z"
    }
   },
   "cell_type": "code",
   "source": [
    "numbers = []\n",
    "while True:\n",
    "    try:\n",
    "        line = input(\"숫자를 입력 ('done'이면 종료)\")\n",
    "        if line == 'done':\n",
    "            break\n",
    "        numbers.append(int(line))\n",
    "    except ValueError:\n",
    "        print(f\"잘못된 값:{line}. 숫자 입력.\")"
   ],
   "outputs": [],
   "execution_count": 3
  }
 ],
 "metadata": {
  "language_info": {
   "name": "python"
  }
 },
 "nbformat": 4,
 "nbformat_minor": 2
}

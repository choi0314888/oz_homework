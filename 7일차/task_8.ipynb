{
 "cells": [
  {
   "cell_type": "markdown",
   "metadata": {},
   "source": [
    "여러분이 자주 사용하는 수학적 연산<br>\n",
    "(예: 삼각형 넓이, 원의 넓이, 직육면체의 넓이)을 수행하는 함수들을 포함하는 mymath.py라는 이름의 모듈을 만드세요. \n",
    "\n",
    "이 모듈을 사용하여 작성된 함수들을 실제로 임포트하고 사용하는 간단한 프로그램을 작성하세요."
   ]
  },
  {
   "metadata": {},
   "cell_type": "code",
   "outputs": [],
   "execution_count": null,
   "source": "이 문제는 챗gpt의 도움을 받았습니다..."
  },
  {
   "cell_type": "markdown",
   "metadata": {},
   "source": []
  },
  {
   "metadata": {
    "ExecuteTime": {
     "end_time": "2025-04-25T06:01:10.981806Z",
     "start_time": "2025-04-25T06:01:10.975779Z"
    }
   },
   "cell_type": "code",
   "source": [
    "from mymath import triangle_area, circle_area, cuboid_area\n",
    "\n",
    "numbers = [1,2,3,4,5]\n",
    "\n",
    "triangle_area(3,10)\n",
    "print(\"삼각형의 넓이:\", triangle_area(base, height))\n",
    "\n",
    "circle_area(4)\n",
    "print(\"원의 넓이:\", circle_area(radius))\n",
    "\n",
    "cuboid_area(5,10,4)\n",
    "print(\"직육면체의 넓이:\", cuboid_area(length, width, height_cuboid))\n"
   ],
   "outputs": [
    {
     "name": "stdout",
     "output_type": "stream",
     "text": [
      "삼각형의 넓이: 15.0\n",
      "원의 넓이: 50.26548245743669\n",
      "직육면체의 넓이: 220\n"
     ]
    }
   ],
   "execution_count": 6
  }
 ],
 "metadata": {
  "language_info": {
   "name": "python"
  }
 },
 "nbformat": 4,
 "nbformat_minor": 2
}

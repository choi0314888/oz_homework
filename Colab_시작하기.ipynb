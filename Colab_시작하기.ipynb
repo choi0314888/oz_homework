{
  "cells": [
    {
      "cell_type": "markdown",
      "metadata": {
        "id": "view-in-github",
        "colab_type": "text"
      },
      "source": [
        "<a href=\"https://colab.research.google.com/github/choi0314888/oz_homework/blob/main/Colab_%EC%8B%9C%EC%9E%91%ED%95%98%EA%B8%B0.ipynb\" target=\"_parent\"><img src=\"https://colab.research.google.com/assets/colab-badge.svg\" alt=\"Open In Colab\"/></a>"
      ]
    },
    {
      "cell_type": "code",
      "source": [
        "DROP TABLE IF EXISTS employees;\n",
        "\n",
        "CREATE TABLE employees (\n",
        "id INT AUTO_INCREMENT PRIMARY KEY,\n",
        "name VARCHAR(100),\n",
        "    position VARCHAR(100),\n",
        "    salary DECIMAL(10, 2)\n",
        ");\n",
        "\n",
        "INSERT INTO employees (name, position, salary) VALUES ('혜린', 'PM', 90000);\n",
        "INSERT INTO employees (name, position, salary) VALUES ('은우', 'Frontend', 80000);\n",
        "INSERT INTO employees (name, position, salary) VALUES ('가을', 'Backend', 92000);\n",
        "INSERT INTO employees (name, position, salary) VALUES ('지수', 'Frontend', 78000);\n",
        "INSERT INTO employees (name, position, salary) VALUES ('민혁', 'Frontend', 96000);\n",
        "INSERT INTO employees (name, position, salary) VALUES ('하온', 'Backend', 130000);\n",
        "\n",
        "SELECT name, salary FROM employees;\n",
        "\n",
        "SELECT name, salary FROM employees WHERE position = 'Frontend' AND salary <= 90000;\n",
        "\n",
        "UPDATE employees SET salary = salary * 1.10 WHERE position = 'PM';\n",
        "\n",
        "UPDATE employees SET salary = salary * 1.05 WHERE position = 'Backend';\n",
        "\n",
        "DELETE FROM employees WHERE name = '민혁';\n",
        "\n",
        "SELECT position, AVG(salary) AS average_salary FROM employees GROUP BY position;\n",
        "\n",
        "DROP TABLE employees;"
      ],
      "metadata": {
        "id": "nPlh0JTzALZf"
      },
      "execution_count": null,
      "outputs": []
    }
  ],
  "metadata": {
    "colab": {
      "name": "Colab 시작하기",
      "provenance": [],
      "include_colab_link": true
    },
    "kernelspec": {
      "display_name": "Python 3",
      "name": "python3"
    }
  },
  "nbformat": 4,
  "nbformat_minor": 0
}
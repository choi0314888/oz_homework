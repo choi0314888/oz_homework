{
  "cells": [
    {
      "cell_type": "markdown",
      "metadata": {
        "id": "view-in-github",
        "colab_type": "text"
      },
      "source": [
        "<a href=\"https://colab.research.google.com/github/choi0314888/oz_homework/blob/main/chapter07_13_ipynb_%EB%AC%B8%EC%A0%9C_%EA%B3%BC%EC%A0%9C.ipynb\" target=\"_parent\"><img src=\"https://colab.research.google.com/assets/colab-badge.svg\" alt=\"Open In Colab\"/></a>"
      ]
    },
    {
      "cell_type": "markdown",
      "metadata": {
        "id": "JSY4FxSySrDX"
      },
      "source": [
        "[문제10]\n",
        "\n",
        "데이터 제어 언어(DCL)인 GRANT에 대한 설명으로 옳은 것을 골라주세요\n",
        "\n",
        "- 사용자에게 특정 작업을 수행할 권한을 부여한다.\n",
        "- 사용자로부터 특정 작업 수행 권항을 제거한다.\n",
        "- 다른 사용자에게 동일한 권한을 전달할때 사용한다.\n",
        "- 부여된 권한 중 일부를 제한할때 사용한다."
      ]
    },
    {
      "cell_type": "markdown",
      "metadata": {
        "id": "krn3yeudSrDY"
      },
      "source": [
        "정답 : 1번"
      ]
    },
    {
      "cell_type": "markdown",
      "metadata": {
        "id": "uc0xBrmqSrDY"
      },
      "source": [
        "[문제11]\n",
        "\n",
        "테이블을 생성하기 위해서 사용되는 sql문을 선택해주세요\n",
        "\n",
        "- CREATE TABLE\n",
        "- CREATE NEW TABLE\n",
        "- ADD TABLE\n",
        "- UPDATE TABLE"
      ]
    },
    {
      "cell_type": "markdown",
      "metadata": {
        "id": "zgBX-Ze9SrDY"
      },
      "source": [
        "정답 : 1번"
      ]
    },
    {
      "cell_type": "markdown",
      "metadata": {
        "id": "6tMTsEObSrDY"
      },
      "source": [
        "[문제12]\n",
        "\n",
        "테이블 생성 시 컬럼(속성)에 값이 항상 존재하도록 설정하는 명령어를 선택해주세요\n",
        "\n",
        "- IS NULL\n",
        "- NOT NULL\n",
        "- IN NULL\n",
        "- NULL"
      ]
    },
    {
      "cell_type": "markdown",
      "metadata": {
        "id": "l_tztiCjSrDY"
      },
      "source": [
        "정답 : 2번"
      ]
    },
    {
      "cell_type": "markdown",
      "metadata": {
        "id": "kxDijABySrDZ"
      },
      "source": [
        "[문제13]\n",
        "\n",
        "테이블 생성 시 컬럼(속성)에 중복된 값을 허용하지 않도록 설정하는 명령어를 모두 선택해주세요\n",
        "\n",
        "- UNIQUE\n",
        "- DEFAULT False\n",
        "- PRIMARY KEY\n",
        "- AUTO_INCREMENT"
      ]
    },
    {
      "cell_type": "markdown",
      "metadata": {
        "id": "zKozKKqqSrDZ"
      },
      "source": [
        "정답 : 1번, 3번"
      ]
    },
    {
      "cell_type": "markdown",
      "metadata": {
        "id": "qjeCFs2VSrDZ"
      },
      "source": [
        "[문제14]\n",
        "\n",
        "데이터베이스의 숫자형 데이터 타입이 아닌것을 선택해주세요\n",
        "\n",
        "- BIT\n",
        "- INT\n",
        "- CHAR\n",
        "- BIGINT"
      ]
    },
    {
      "cell_type": "markdown",
      "metadata": {
        "id": "KoQmoSztSrDZ"
      },
      "source": [
        "정답 : 3번"
      ]
    },
    {
      "cell_type": "markdown",
      "metadata": {
        "id": "GeSP1_AnSrDZ"
      },
      "source": [
        "[문제15]\n",
        "\n",
        "날짜와 시간을 같이 나타내는 데이터 타입을 선택해주세요\n",
        "\n",
        "- DATE\n",
        "- TIME\n",
        "- DATETIME"
      ]
    },
    {
      "cell_type": "markdown",
      "metadata": {
        "id": "X18PfP5uSrDZ"
      },
      "source": [
        "정답 : 3번"
      ]
    },
    {
      "cell_type": "markdown",
      "metadata": {
        "id": "3lOqrgtVSrDZ"
      },
      "source": [
        "[문제16]\n",
        "\n",
        "CHAR과 VARCHAR의 차이로 옳은 것을 선택해 주세요\n",
        "\n",
        "- 저장할 수 있는 데이터 종류(문자, 숫자)가 다름\n",
        "- 데이터를 담을 수 있는 공간이 고정인지 가변인지의 차이\n",
        "- 문자열 값을 정수로 표현할 수 있는지의 차이\n",
        "- 한번 입력된 데이터의 수정 여부의 차이"
      ]
    },
    {
      "cell_type": "markdown",
      "metadata": {
        "id": "SFod0j8tSrDZ"
      },
      "source": [
        "정답 : 4번"
      ]
    },
    {
      "cell_type": "markdown",
      "metadata": {
        "id": "s8F-euBySrDZ"
      },
      "source": [
        "[문제17]\n",
        "\n",
        "데이터베이스 내의 트랜잭션을 관리하는데 사용되는 언어를 선택해주세요\n",
        "\n",
        "- DCL\n",
        "- DML\n",
        "- TCL\n",
        "- DDL"
      ]
    },
    {
      "cell_type": "markdown",
      "metadata": {
        "id": "YMFxwTeWSrDZ"
      },
      "source": [
        "정답 : 3번"
      ]
    },
    {
      "cell_type": "markdown",
      "metadata": {
        "id": "jX41EvUoSrDZ"
      },
      "source": [
        "[문제18]\n",
        "\n",
        "칼럼에 저장될 수 있는 값의 범위나 조건을 지정하는 명령어를 선택해주세요\n",
        "\n",
        "- IN\n",
        "- WHERE\n",
        "- CHECK\n",
        "- ON"
      ]
    },
    {
      "cell_type": "markdown",
      "metadata": {
        "id": "37kAKV3PSrDZ"
      },
      "source": [
        "정답 : 3번\n",
        "\n"
      ]
    },
    {
      "cell_type": "markdown",
      "metadata": {
        "id": "zK8zli7iSrDa"
      },
      "source": []
    },
    {
      "cell_type": "markdown",
      "source": [
        "프로젝트는 나중에, 우선 문제 과제만 먼저 올리겠습니다"
      ],
      "metadata": {
        "id": "LouQCsB6VPug"
      }
    }
  ],
  "metadata": {
    "language_info": {
      "name": "python"
    },
    "colab": {
      "provenance": [],
      "include_colab_link": true
    }
  },
  "nbformat": 4,
  "nbformat_minor": 0
}